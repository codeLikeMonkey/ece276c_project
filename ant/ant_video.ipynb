{
 "cells": [
  {
   "cell_type": "code",
   "execution_count": 1,
   "metadata": {},
   "outputs": [],
   "source": [
    "import os\n",
    "from ddpg import *\n",
    "import pickle\n",
    "logging_interval = 100\n",
    "animate_interval = logging_interval * 5\n",
    "logdir='./Ant_video/'\n",
    "VISUALIZE = True\n",
    "\n",
    "\n",
    "#read model\n",
    "\n",
    "with open(\"ant_model.pkl\",\"rb\") as f:\n",
    "    ddpg = pickle.load(f)\n",
    "\n"
   ]
  },
  {
   "cell_type": "code",
   "execution_count": 2,
   "metadata": {},
   "outputs": [],
   "source": [
    "import time"
   ]
  },
  {
   "cell_type": "code",
   "execution_count": 3,
   "metadata": {},
   "outputs": [
    {
     "name": "stderr",
     "output_type": "stream",
     "text": [
      "[2018-06-07 01:58:18,738] Making new env: Ant-v1\n",
      "[2018-06-07 01:58:19,356] Clearing 2 monitor files from previous run (because force=True was provided)\n",
      "[2018-06-07 01:58:19,447] Starting new video recorder writing to /datasets/home/55/455/yut107/ece276_project/Ant_video/openaigym.video.0.3701.video000000.mp4\n",
      "[2018-06-07 01:58:19,449] GLFW error: 65544, desc: b'X11: RandR gamma ramp support seems broken'\n",
      "[2018-06-07 01:58:19,503] GLFW error: 65544, desc: b'Linux: Failed to watch for joystick connections in /dev/input: No such file or directory'\n",
      "[2018-06-07 01:58:19,504] GLFW error: 65544, desc: b'Linux: Failed to open joystick device directory /dev/input: No such file or directory'\n",
      "[2018-06-07 01:59:55,818] Finished writing results. You can upload them to the scoreboard via gym.upload('/datasets/home/55/455/yut107/ece276_project/Ant_video')\n"
     ]
    }
   ],
   "source": [
    "env_id = \"Ant-v1\"\n",
    "env = gym.make(env_id)\n",
    "if VISUALIZE:\n",
    "    if not os.path.exists(logdir):\n",
    "        os.mkdir(logdir)\n",
    "env = gym.wrappers.Monitor(env, logdir, force=True, video_callable=lambda episode_id: episode_id%logging_interval==0)\n",
    "env._max_episodes_steps = 10000\n",
    "state = env.reset()\n",
    "\n",
    "\n",
    "while True:\n",
    "    ddpg.noise.reset()\n",
    "    env.render()\n",
    "    time.sleep(0.05)\n",
    "\n",
    "    action = ddpg.get_action_with_noise(state)\n",
    "    next_state, reward, done, info = env.step(action)\n",
    "    state = next_state\n",
    "    if done:\n",
    "        break\n",
    "        \n",
    "env.close()"
   ]
  }
 ],
 "metadata": {
  "kernelspec": {
   "display_name": "Python 3",
   "language": "python",
   "name": "python3"
  },
  "language_info": {
   "codemirror_mode": {
    "name": "ipython",
    "version": 3
   },
   "file_extension": ".py",
   "mimetype": "text/x-python",
   "name": "python",
   "nbconvert_exporter": "python",
   "pygments_lexer": "ipython3",
   "version": "3.6.4"
  }
 },
 "nbformat": 4,
 "nbformat_minor": 2
}
